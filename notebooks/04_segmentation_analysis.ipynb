{
 "cells": [
  {
   "cell_type": "code",
   "execution_count": null,
   "id": "2fb8f28e",
   "metadata": {},
   "outputs": [],
   "source": [
    "import pandas as pd\n",
    "import seaborn as sns\n",
    "import matplotlib.pyplot as plt"
   ]
  },
  {
   "cell_type": "code",
   "execution_count": null,
   "id": "ad7ccad1",
   "metadata": {},
   "outputs": [],
   "source": [
    "rfm = pd.read_csv('../data/processed/segmented_customers.csv')"
   ]
  },
  {
   "cell_type": "code",
   "execution_count": null,
   "id": "9398ab76",
   "metadata": {},
   "outputs": [],
   "source": [
    "# Boxplot for Recency\n",
    "sns.boxplot(x='Cluster', y='Recency', data=rfm, palette='pastel')\n",
    "plt.title('Recency by Cluster')\n",
    "plt.show()"
   ]
  },
  {
   "cell_type": "code",
   "execution_count": null,
   "id": "99a04f9a",
   "metadata": {},
   "outputs": [],
   "source": [
    "# Boxplot for Frequency\n",
    "sns.boxplot(x='Cluster', y='Frequency', data=rfm, palette='Set2')\n",
    "plt.title('Frequency by Cluster')\n",
    "plt.show()"
   ]
  },
  {
   "cell_type": "code",
   "execution_count": null,
   "id": "381923f0",
   "metadata": {},
   "outputs": [],
   "source": [
    "# Boxplot for Monetary\n",
    "sns.boxplot(x='Cluster', y='Monetary', data=rfm, palette='Set3')\n",
    "plt.title('Monetary by Cluster')\n",
    "plt.show()"
   ]
  },
  {
   "cell_type": "code",
   "execution_count": null,
   "id": "69ea0579",
   "metadata": {},
   "outputs": [],
   "source": [
    "# Summary of each segment\n",
    "segment_summary = rfm.groupby('Cluster')[['Recency', 'Frequency', 'Monetary']].mean()\n",
    "print(segment_summary)"
   ]
  }
 ],
 "metadata": {
  "language_info": {
   "name": "python"
  }
 },
 "nbformat": 4,
 "nbformat_minor": 5
}
