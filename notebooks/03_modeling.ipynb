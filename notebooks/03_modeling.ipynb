{
 "cells": [
  {
   "cell_type": "code",
   "execution_count": null,
   "id": "1bdf2ac1",
   "metadata": {},
   "outputs": [],
   "source": [
    "from src.data_preprocessing import load_data, preprocess_data\n",
    "from src.model import find_optimal_k, build_kmeans"
   ]
  },
  {
   "cell_type": "code",
   "execution_count": null,
   "id": "f7b256a2",
   "metadata": {},
   "outputs": [],
   "source": [
    "\n",
    "# Load and preprocess again (if not run before)\n",
    "df = load_data('../data/raw/online_retail.xlsx')\n",
    "rfm, rfm_scaled = preprocess_data(df)"
   ]
  },
  {
   "cell_type": "code",
   "execution_count": null,
   "id": "e7e8a94e",
   "metadata": {},
   "outputs": [],
   "source": [
    "\n",
    "# Elbow Method\n",
    "find_optimal_k(rfm_scaled)  # choose k visually"
   ]
  },
  {
   "cell_type": "code",
   "execution_count": null,
   "id": "f677cc72",
   "metadata": {},
   "outputs": [],
   "source": [
    "# Apply KMeans with k=4 (or any chosen k)\n",
    "model, labels = build_kmeans(rfm_scaled, 4)\n",
    "rfm['Cluster'] = labels\n",
    "rfm.to_csv(\"../data/processed/segmented_customers.csv\", index=False)\n",
    "print(\"Clustering complete and saved.\")"
   ]
  }
 ],
 "metadata": {
  "language_info": {
   "name": "python"
  }
 },
 "nbformat": 4,
 "nbformat_minor": 5
}
