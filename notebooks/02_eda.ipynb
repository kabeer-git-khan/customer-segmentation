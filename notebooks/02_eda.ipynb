{
 "cells": [
  {
   "cell_type": "code",
   "execution_count": null,
   "id": "1e01a81e",
   "metadata": {},
   "outputs": [],
   "source": [
    "import matplotlib.pyplot as plt\n",
    "import seaborn as sns\n",
    "import pandas as pd"
   ]
  },
  {
   "cell_type": "code",
   "execution_count": null,
   "id": "71ba7ccd",
   "metadata": {},
   "outputs": [],
   "source": [
    "rfm = pd.read_csv('../data/processed/segmented_customers.csv')"
   ]
  },
  {
   "cell_type": "code",
   "execution_count": null,
   "metadata": {},
   "outputs": [],
   "source": [
    "# Plot Recency\n",
    "sns.histplot(rfm['Recency'], bins=30, kde=True, color='skyblue')\n",
    "plt.title(\"Recency Distribution\")\n",
    "plt.show()\n",
    "\n",
    "# Plot Frequency\n",
    "sns.histplot(rfm['Frequency'], bins=30, kde=True, color='lightgreen')\n",
    "plt.title(\"Frequency Distribution\")\n",
    "plt.show()\n",
    "\n",
    "# Plot Monetary\n",
    "sns.histplot(rfm['Monetary'], bins=30, kde=True, color='salmon')\n",
    "plt.title(\"Monetary Distribution\")\n",
    "plt.show()"
   ]
  }
 ],
 "metadata": {
  "language_info": {
   "name": "python"
  }
 },
 "nbformat": 4,
 "nbformat_minor": 5
}
