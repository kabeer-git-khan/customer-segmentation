{
 "cells": [
  {
   "cell_type": "code",
   "execution_count": null,
   "id": "60e4a7e4",
   "metadata": {},
   "outputs": [],
   "source": [
    "from src.data_preprocessing import load_data, preprocess_data"
   ]
  },
  {
   "cell_type": "code",
   "execution_count": null,
   "id": "ced0fa30",
   "metadata": {},
   "outputs": [],
   "source": [
    "# Load data\n",
    "file_path = '../data/raw/online_retail.xlsx'\n",
    "df = load_data(file_path)\n",
    "print(f\"Original shape: {df.shape}\")"
   ]
  },
  {
   "cell_type": "code",
   "execution_count": null,
   "metadata": {},
   "outputs": [],
   "source": [
    "# Show missing values and unique customers\n",
    "print(df.isnull().sum())\n",
    "print(df['CustomerID'].nunique())\n"
   ]
  },
  {
   "cell_type": "code",
   "execution_count": null,
   "id": "0151fe3f",
   "metadata": {},
   "outputs": [],
   "source": [
    "# Clean and transform\n",
    "rfm, rfm_scaled = preprocess_data(df)\n",
    "print(\"RFM shape:\", rfm.shape)\n",
    "rfm.head()"
   ]
  }
 ],
 "metadata": {
  "kernelspec": {
   "display_name": "base",
   "language": "python",
   "name": "python3"
  },
  "language_info": {
   "name": "python",
   "version": "3.13.2"
  }
 },
 "nbformat": 4,
 "nbformat_minor": 5
}
